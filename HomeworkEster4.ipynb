{
 "cells": [
  {
   "cell_type": "code",
   "execution_count": 3,
   "id": "ec802b3d-b32d-442d-a6f4-843c0436a46b",
   "metadata": {},
   "outputs": [],
   "source": [
    "#Задача 1\n",
    "import math"
   ]
  },
  {
   "cell_type": "code",
   "execution_count": 5,
   "id": "7c31001d-61e1-4b6a-928c-fec063ae5efd",
   "metadata": {},
   "outputs": [],
   "source": [
    "class ComplexNumber:\n",
    "    def __init__(self, real=None, imag=None, modulus=None, angle=None):\n",
    "        if real is not None and imag is not None:\n",
    "            self.real = real\n",
    "            self.imag = imag\n",
    "        elif modulus is not None and angle is not None:\n",
    "            self.real = modulus * math.cos(angle)\n",
    "            self.imag = modulus * math.sin(angle)\n",
    "        else:\n",
    "            print(\"Ошибка: нужно задать real и imag или modulus и angle.\")\n",
    "            self.real = 0\n",
    "            self.imag = 0\n",
    "\n",
    "    def __str__(self):\n",
    "        return f\"{self.real} + {self.imag}i\"\n",
    "\n",
    "    def __add__(self, other):\n",
    "        new_real = self.real + other.real\n",
    "        new_imag = self.imag + other.imag\n",
    "        return ComplexNumber(real=new_real, imag=new_imag)\n",
    "\n",
    "    def __sub__(self, other):\n",
    "        new_real = self.real - other.real\n",
    "        new_imag = self.imag - other.imag\n",
    "        return ComplexNumber(real=new_real, imag=new_imag)\n",
    "\n",
    "    def __mul__(self, other):\n",
    "        new_real = self.real * other.real - self.imag * other.imag\n",
    "        new_imag = self.real * other.imag + self.imag * other.real\n",
    "        return ComplexNumber(real=new_real, imag=new_imag)\n",
    "\n",
    "    def __truediv__(self, other):\n",
    "        denom = other.real ** 2 + other.imag ** 2\n",
    "        if denom == 0:\n",
    "            print(\"Ошибка: деление на ноль!\")\n",
    "            return None\n",
    "        new_real = (self.real * other.real + self.imag * other.imag) / denom\n",
    "        new_imag = (self.imag * other.real - self.real * other.imag) / denom\n",
    "        return ComplexNumber(real=new_real, imag=new_imag)\n",
    "\n",
    "    def to_polar(self):\n",
    "        modulus = math.sqrt(self.real ** 2 + self.imag ** 2)\n",
    "        angle = math.atan2(self.imag, self.real)\n",
    "        return (modulus, angle)\n",
    "\n",
    "    def to_algebraic(self):\n",
    "        return (self.real, self.imag)\n",
    "\n"
   ]
  },
  {
   "cell_type": "code",
   "execution_count": 6,
   "id": "8d2f7959-36d1-45ca-9f04-74079afe8e9a",
   "metadata": {},
   "outputs": [
    {
     "name": "stdout",
     "output_type": "stream",
     "text": [
      "z1: 3 + 4i\n",
      "z2: 3.0000000000000004 + 3.9999999999999996i\n",
      "Сложение: 6.0 + 8.0i\n",
      "Вычитание: -4.440892098500626e-16 + 4.440892098500626e-16i\n",
      "Умножение: -6.9999999999999964 + 24.0i\n",
      "Деление: 1.0 + 1.4210854715202004e-16i\n",
      "z1 в полярной форме: (5.0, 0.9272952180016122)\n",
      "z2 в алгебраической форме: (3.0000000000000004, 3.9999999999999996)\n"
     ]
    }
   ],
   "source": [
    "# Пример использования\n",
    "z1 = ComplexNumber(real=3, imag=4)\n",
    "z2 = ComplexNumber(modulus=5, angle=math.atan2(4, 3))\n",
    "\n",
    "print(\"z1:\", z1)\n",
    "print(\"z2:\", z2)\n",
    "\n",
    "print(\"Сложение:\", z1 + z2)\n",
    "print(\"Вычитание:\", z1 - z2)\n",
    "print(\"Умножение:\", z1 * z2)\n",
    "print(\"Деление:\", z1 / z2)\n",
    "\n",
    "polar_z1 = z1.to_polar()\n",
    "print(\"z1 в полярной форме:\", polar_z1)\n",
    "\n",
    "algebraic_z2 = z2.to_algebraic()\n",
    "print(\"z2 в алгебраической форме:\", algebraic_z2)"
   ]
  },
  {
   "cell_type": "code",
   "execution_count": 4,
   "id": "3afe4c13-522f-49c4-828f-3ecf43b33cee",
   "metadata": {},
   "outputs": [],
   "source": [
    "#Задача2\n",
    "class Vector:\n",
    "    def __init__(self, coordinates):\n",
    "        if not isinstance(coordinates, list) or not all(isinstance(x, (int, float)) for x in coordinates):\n",
    "            raise ValueError(\"Координаты должны быть списком чисел.\")\n",
    "        self.coordinates = coordinates\n",
    "\n",
    "    def __str__(self):\n",
    "        return f\"Vector({self.coordinates})\"\n",
    "\n",
    "    def __add__(self, other):\n",
    "        if len(self.coordinates) != len(other.coordinates):\n",
    "            raise ValueError(\"Векторы должны быть одной размерности для сложения.\")\n",
    "        result = [x + y for x, y in zip(self.coordinates, other.coordinates)]\n",
    "        return Vector(result)\n",
    "\n",
    "    def __sub__(self, other):\n",
    "        if len(self.coordinates) != len(other.coordinates):\n",
    "            raise ValueError(\"Векторы должны быть одной размерности для вычитания.\")\n",
    "        result = [x - y for x, y in zip(self.coordinates, other.coordinates)]\n",
    "        return Vector(result)\n",
    "\n",
    "    def dot(self, other):\n",
    "        if len(self.coordinates) != len(other.coordinates):\n",
    "            raise ValueError(\"Векторы должны быть одной размерности для скалярного произведения.\")\n",
    "        return sum(x * y for x, y in zip(self.coordinates, other.coordinates))\n",
    "\n",
    "    def cos_angle(self, other):\n",
    "        try:\n",
    "            dot_product = self.dot(other)\n",
    "            norm_self = self.norm()\n",
    "            norm_other = other.norm()\n",
    "            return dot_product / (norm_self * norm_other)\n",
    "        except ZeroDivisionError:\n",
    "            raise ValueError(\"Невозможно вычислить косинус угла с нулевым вектором.\")\n",
    "\n",
    "    def norm(self):\n",
    "        return math.sqrt(sum(x ** 2 for x in self.coordinates))\n"
   ]
  },
  {
   "cell_type": "code",
   "execution_count": 5,
   "id": "10aef8be-f76c-4351-8a89-9d0cf6b41c76",
   "metadata": {},
   "outputs": [
    {
     "name": "stdout",
     "output_type": "stream",
     "text": [
      "v1: Vector([1, 2, 3])\n",
      "v2: Vector([4, 5, 6])\n",
      "Сложение v1 и v2: Vector([5, 7, 9])\n",
      "Вычитание v1 и v2: Vector([-3, -3, -3])\n",
      "Скалярное произведение v1 и v2: 32\n",
      "Косинус угла между v1 и v2: 0.9746318461970762\n",
      "Евклидова норма v1: 3.7416573867739413\n",
      "Евклидова норма v2: 8.774964387392123\n"
     ]
    }
   ],
   "source": [
    "# Пример использования\n",
    "v1 = Vector([1, 2, 3])\n",
    "v2 = Vector([4, 5, 6])\n",
    "\n",
    "print(\"v1:\", v1)\n",
    "print(\"v2:\", v2)\n",
    "\n",
    "# Сложение и вычитание\n",
    "print(\"Сложение v1 и v2:\", v1 + v2)\n",
    "print(\"Вычитание v1 и v2:\", v1 - v2)\n",
    "\n",
    "# Скалярное произведение\n",
    "print(\"Скалярное произведение v1 и v2:\", v1.dot(v2))\n",
    "\n",
    "# Косинус угла\n",
    "print(\"Косинус угла между v1 и v2:\", v1.cos_angle(v2))\n",
    "\n",
    "# Евклидова норма\n",
    "print(\"Евклидова норма v1:\", v1.norm())\n",
    "print(\"Евклидова норма v2:\", v2.norm())"
   ]
  },
  {
   "cell_type": "code",
   "execution_count": null,
   "id": "e3b524b3-a44b-4145-8059-a105cc4783a9",
   "metadata": {},
   "outputs": [],
   "source": []
  }
 ],
 "metadata": {
  "kernelspec": {
   "display_name": "WORK",
   "language": "python",
   "name": "work"
  },
  "language_info": {
   "codemirror_mode": {
    "name": "ipython",
    "version": 3
   },
   "file_extension": ".py",
   "mimetype": "text/x-python",
   "name": "python",
   "nbconvert_exporter": "python",
   "pygments_lexer": "ipython3",
   "version": "3.11.5"
  }
 },
 "nbformat": 4,
 "nbformat_minor": 5
}
