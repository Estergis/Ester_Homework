{
 "cells": [
  {
   "cell_type": "code",
   "execution_count": null,
   "id": "85f4a292-aa97-4c7f-9d30-55af972423dc",
   "metadata": {},
   "outputs": [],
   "source": [
    "#Задача Тестирование методов класса"
   ]
  },
  {
   "cell_type": "code",
   "execution_count": 8,
   "id": "b911deaf-7404-43fe-985d-7e44c8458080",
   "metadata": {},
   "outputs": [],
   "source": [
    "import os\n",
    "import time\n",
    "import requests\n",
    "from selenium import webdriver\n",
    "from selenium.webdriver.common.by import By\n",
    "from selenium.webdriver.common.keys import Keys\n",
    "from selenium.webdriver.chrome.service import Service\n",
    "from webdriver_manager.chrome import ChromeDriverManager\n",
    "from bs4 import BeautifulSoup\n",
    "from urllib.parse import urljoin\n",
    "from tqdm import tqdm"
   ]
  },
  {
   "cell_type": "code",
   "execution_count": 11,
   "id": "9f8da9f6-af29-4fd9-8c71-530ff05740e0",
   "metadata": {},
   "outputs": [],
   "source": [
    "# Пути для сохранения изображений\n",
    "BASE_DIR = r\"D:\\Эстер\\с рс\\Courses\\ML Engineer\\HWEster12\"\n",
    "DATASET_DIR = os.path.join(BASE_DIR, \"dataset\")\n",
    "\n",
    "# Создаем основные папки, если их нет\n",
    "os.makedirs(DATASET_DIR, exist_ok=True)\n",
    "\n",
    "def setup_driver():\n",
    "    \"\"\"Настройка Selenium WebDriver.\"\"\"\n",
    "    options = webdriver.ChromeOptions()\n",
    "    options.add_argument(\"--headless\")  # Запуск в фоновом режиме\n",
    "    options.add_argument(\"--disable-gpu\")\n",
    "    options.add_argument(\"--no-sandbox\")\n",
    "    options.add_argument(\"--disable-dev-shm-usage\")\n",
    "    driver = webdriver.Chrome(service=Service(ChromeDriverManager().install()), options=options)\n",
    "    return driver\n",
    "\n",
    "def get_image_urls(query, num_images=1000):\n",
    "    \"\"\"Получаем URL-адреса изображений из Яндекс Картинок.\"\"\"\n",
    "    driver = setup_driver()\n",
    "    search_url = f\"https://yandex.ru/images/search?text={query}\"\n",
    "    driver.get(search_url)\n",
    "    \n",
    "    # Прокручиваем страницу для загрузки изображений\n",
    "    for _ in range(20):\n",
    "        driver.find_element(By.TAG_NAME, 'body').send_keys(Keys.END)\n",
    "        time.sleep(2)\n",
    "    \n",
    "    soup = BeautifulSoup(driver.page_source, 'html.parser')\n",
    "    driver.quit()\n",
    "    \n",
    "    image_elements = soup.find_all('img')\n",
    "    image_urls = []\n",
    "    \n",
    "    for img in image_elements:\n",
    "        if 'src' in img.attrs:\n",
    "            image_urls.append(urljoin(\"https://yandex.ru\", img['src']))\n",
    "        elif 'data-src' in img.attrs:\n",
    "            image_urls.append(urljoin(\"https://yandex.ru\", img['data-src']))\n",
    "    \n",
    "    return image_urls[:num_images]\n",
    "\n",
    "def download_images(image_urls, folder_name):\n",
    "    \"\"\"Скачиваем изображения и сохраняем их с именами от 0000 до 0999.\"\"\"\n",
    "    folder_path = os.path.join(DATASET_DIR, folder_name)\n",
    "    os.makedirs(folder_path, exist_ok=True)\n",
    "    \n",
    "    for idx, url in tqdm(enumerate(image_urls), total=len(image_urls)):\n",
    "        file_name = f\"{idx:04d}.jpg\"  # Формат имени 0000.jpg, 0001.jpg и т. д.\n",
    "        file_path = os.path.join(folder_path, file_name)\n",
    "        \n",
    "        try:\n",
    "            response = requests.get(url, stream=True, timeout=10)\n",
    "            if response.status_code == 200:\n",
    "                with open(file_path, 'wb') as file:\n",
    "                    for chunk in response.iter_content(1024):\n",
    "                        file.write(chunk)\n",
    "        except Exception as e:\n",
    "            print(f\"Ошибка загрузки {url}: {e}\")\n"
   ]
  },
  {
   "cell_type": "code",
   "execution_count": 12,
   "id": "3d3845fd-7f55-446a-9fdd-3f912a53799e",
   "metadata": {},
   "outputs": [
    {
     "name": "stderr",
     "output_type": "stream",
     "text": [
      "100%|████████████████████████████████████████████████████████████████████████████████| 310/310 [01:00<00:00,  5.16it/s]\n",
      "100%|██████████████████████████████████████████████████████████████████████████████████| 44/44 [00:07<00:00,  5.80it/s]\n"
     ]
    }
   ],
   "source": [
    "# Получаем ссылки на изображения\n",
    "brown_bear_urls = get_image_urls(\"brown bear\", num_images=1000)\n",
    "polar_bear_urls = get_image_urls(\"polar bear\", num_images=1000)\n",
    "\n",
    "# Загружаем изображения в соответствующие папки\n",
    "download_images(brown_bear_urls, \"brown_bear\")\n",
    "download_images(polar_bear_urls, \"polar_bear\")\n"
   ]
  },
  {
   "cell_type": "code",
   "execution_count": null,
   "id": "c61ffbd8-82a5-455f-8f8b-ce0948ffae75",
   "metadata": {},
   "outputs": [],
   "source": []
  }
 ],
 "metadata": {
  "kernelspec": {
   "display_name": "WORK",
   "language": "python",
   "name": "work"
  },
  "language_info": {
   "codemirror_mode": {
    "name": "ipython",
    "version": 3
   },
   "file_extension": ".py",
   "mimetype": "text/x-python",
   "name": "python",
   "nbconvert_exporter": "python",
   "pygments_lexer": "ipython3",
   "version": "3.11.5"
  }
 },
 "nbformat": 4,
 "nbformat_minor": 5
}
