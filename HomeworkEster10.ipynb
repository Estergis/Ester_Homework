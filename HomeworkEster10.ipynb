{
 "cells": [
  {
   "cell_type": "code",
   "execution_count": null,
   "id": "6dd123b3-1bba-476b-81e2-6d6d54f0d777",
   "metadata": {},
   "outputs": [],
   "source": [
    "#Задача 1 Применение метаклассов"
   ]
  },
  {
   "cell_type": "code",
   "execution_count": 5,
   "id": "c35a7ded-50f7-4291-8f58-be9360406e62",
   "metadata": {},
   "outputs": [
    {
     "name": "stdout",
     "output_type": "stream",
     "text": [
      "Calling method __init__\n",
      "Reading attribute custom_method\n",
      "42\n",
      "Writing attribute custom_method with value 78\n",
      "Calling method other_custom_method\n"
     ]
    }
   ],
   "source": [
    "class AttrLoggingMeta(type):\n",
    "    # Метод создания нового класса с логированием\n",
    "    def __new__(cls, name, bases, dct):\n",
    "        for attr_name, attr_value in dct.items():\n",
    "            if callable(attr_value):  \n",
    "                dct[attr_name] = cls.log_method(attr_name, attr_value)\n",
    "        cls_instance = super().__new__(cls, name, bases, dct)\n",
    "        return cls_instance\n",
    "\n",
    "    # Логирование доступа к атрибуту\n",
    "    @staticmethod\n",
    "    def log_access(name, value):\n",
    "        print(f\"Accessing attribute {name} with value {value}\")\n",
    "\n",
    "    # Логирование чтения атрибута\n",
    "    @staticmethod\n",
    "    def log_read(name, value, instance):\n",
    "        print(f\"Reading attribute {name}\")\n",
    "        return value\n",
    "\n",
    "    # Логирование записи атрибута\n",
    "    @staticmethod\n",
    "    def log_write(name, value, instance):\n",
    "        print(f\"Writing attribute {name} with value {value}\")\n",
    "        object.__setattr__(instance, f\"_{name}\", value)  \n",
    "\n",
    "    # Логирование вызова методов\n",
    "    @classmethod\n",
    "    def log_method(cls, name, method):\n",
    "        def wrapper(*args, **kwargs):\n",
    "            print(f\"Calling method {name}\")\n",
    "            return method(*args, **kwargs)\n",
    "        return wrapper\n",
    "\n",
    "\n",
    "class LoggedClass(metaclass=AttrLoggingMeta):\n",
    "    def __init__(self):\n",
    "        self._custom_method = 42  \n",
    "\n",
    "    # Геттер с логированием\n",
    "    @property\n",
    "    def custom_method(self):\n",
    "        return AttrLoggingMeta.log_read(\"custom_method\", self._custom_method, self)\n",
    "\n",
    "    # Сеттер с логированием\n",
    "    @custom_method.setter\n",
    "    def custom_method(self, value):\n",
    "        AttrLoggingMeta.log_write(\"custom_method\", value, self)\n",
    "\n",
    "    # Обычный метод класса\n",
    "    def other_custom_method(self):\n",
    "        return \"Method called\"\n",
    "\n",
    "\n",
    "if __name__ == \"__main__\":\n",
    "    instance = LoggedClass()\n",
    "    print(instance.custom_method)  \n",
    "    instance.custom_method = 78   \n",
    "    instance.other_custom_method()  \n"
   ]
  },
  {
   "cell_type": "code",
   "execution_count": null,
   "id": "82a83169-0e20-443e-9e86-a25542ec912d",
   "metadata": {},
   "outputs": [],
   "source": [
    "#Задача 2 Динамическое создание класса "
   ]
  },
  {
   "cell_type": "code",
   "execution_count": 14,
   "id": "bdabcc87-1839-49a4-a70f-95f8afc7ad9f",
   "metadata": {},
   "outputs": [
    {
     "name": "stdout",
     "output_type": "stream",
     "text": [
      "Hello, I am a Human and I am Unknown years old.\n"
     ]
    }
   ],
   "source": [
    "def create_class_with_methods(class_name, attributes, methods):\n",
    "    # Создаем новый класс \n",
    "    def init(self):\n",
    "        for attr_name, attr_value in attributes.items():\n",
    "            setattr(self, attr_name, attr_value)\n",
    "    \n",
    "    new_class = type(class_name, (object,), {\"__init__\": init, **methods})\n",
    "    \n",
    "    return new_class\n",
    "\n",
    "if __name__ == \"__main__\":\n",
    "    # Определяем атрибуты и методы\n",
    "    attributes = {\n",
    "        'species': 'Human',\n",
    "        'age': 25\n",
    "    }\n",
    "    methods = {\n",
    "        'greet': lambda self: f\"Hello, I am a {getattr(self, 'species', 'Unknown')} and I am {getattr(self, 'age', 'Unknown')} years old.\"\n",
    "    }\n",
    "    \n",
    "    # Создаем класс\n",
    "    DynamicClass = create_class_with_methods('DynamicClass', attributes, methods)\n",
    "    \n",
    "    # Создаем экземпляр класса\n",
    "    instance = DynamicClass()\n",
    "    \n",
    "    # Удаляем атрибут с помощью delattr\n",
    "    delattr(instance, 'age')\n",
    "    \n",
    "    # Вызываем метод и печатаем результат\n",
    "    print(instance.greet())\n",
    "\n"
   ]
  },
  {
   "cell_type": "code",
   "execution_count": null,
   "id": "726bed0c-c894-4940-860e-be8ca40f1344",
   "metadata": {},
   "outputs": [],
   "source": [
    "#Задача 3 Генерация кода"
   ]
  },
  {
   "cell_type": "code",
   "execution_count": 20,
   "id": "2e741cec-6503-419a-aff2-e16ced09a9fd",
   "metadata": {},
   "outputs": [
    {
     "name": "stdout",
     "output_type": "stream",
     "text": [
      "5\n",
      "5\n"
     ]
    }
   ],
   "source": [
    "def generate_complex_function(function_name, parameters, function_body):\n",
    "    # Создаем строку с кодом для функции\n",
    "    code = \"\"\"\n",
    "def {function_name}({parameters}):\n",
    "    {function_body}\n",
    "\"\"\".format(function_name=function_name, parameters=', '.join(parameters), function_body=function_body.replace('\\n', '\\n    '))\n",
    "    \n",
    "    # Исполняем код с помощью exec\n",
    "    exec(code)\n",
    "    # Возвращаем сгенерированную функцию\n",
    "    return locals()[function_name]\n",
    "\n",
    "if __name__ == \"__main__\":\n",
    "    function_name = 'complex_function'\n",
    "    parameters = ['x', 'y']\n",
    "    function_body = \"\"\"\n",
    "if x > y:\n",
    "    return x - y\n",
    "else:\n",
    "    return y - x\n",
    "\"\"\"\n",
    "    # Генерация функции\n",
    "    complex_func = generate_complex_function(function_name, parameters, function_body)\n",
    "    \n",
    "    # Пример использования\n",
    "    print(complex_func(10, 5))  # 5\n",
    "    print(complex_func(5, 10))  # 5\n"
   ]
  },
  {
   "cell_type": "code",
   "execution_count": null,
   "id": "b889a19e-a9ba-49e6-8a7e-6e6fcd0b3f68",
   "metadata": {},
   "outputs": [],
   "source": []
  }
 ],
 "metadata": {
  "kernelspec": {
   "display_name": "WORK",
   "language": "python",
   "name": "work"
  },
  "language_info": {
   "codemirror_mode": {
    "name": "ipython",
    "version": 3
   },
   "file_extension": ".py",
   "mimetype": "text/x-python",
   "name": "python",
   "nbconvert_exporter": "python",
   "pygments_lexer": "ipython3",
   "version": "3.11.5"
  }
 },
 "nbformat": 4,
 "nbformat_minor": 5
}
