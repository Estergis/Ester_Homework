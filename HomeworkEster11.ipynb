{
 "cells": [
  {
   "cell_type": "code",
   "execution_count": null,
   "id": "53fe553c-1c93-445f-8f07-7df27e755479",
   "metadata": {},
   "outputs": [],
   "source": [
    "#Задача 1 Тестирование методов класса"
   ]
  },
  {
   "cell_type": "code",
   "execution_count": 6,
   "id": "98b01d77-be3f-44e1-b6d9-6915a148d8e2",
   "metadata": {},
   "outputs": [
    {
     "name": "stdout",
     "output_type": "stream",
     "text": [
      "Collecting pytest\n",
      "  Downloading pytest-8.3.4-py3-none-any.whl.metadata (7.5 kB)\n",
      "Requirement already satisfied: colorama in d:\\yolo8\\cvat2yolo\\work\\lib\\site-packages (from pytest) (0.4.6)\n",
      "Collecting iniconfig (from pytest)\n",
      "  Downloading iniconfig-2.0.0-py3-none-any.whl.metadata (2.6 kB)\n",
      "Requirement already satisfied: packaging in d:\\yolo8\\cvat2yolo\\work\\lib\\site-packages (from pytest) (24.1)\n",
      "Collecting pluggy<2,>=1.5 (from pytest)\n",
      "  Downloading pluggy-1.5.0-py3-none-any.whl.metadata (4.8 kB)\n",
      "Downloading pytest-8.3.4-py3-none-any.whl (343 kB)\n",
      "   ---------------------------------------- 0.0/343.1 kB ? eta -:--:--\n",
      "   ---- ---------------------------------- 41.0/343.1 kB 960.0 kB/s eta 0:00:01\n",
      "   -------------------- ------------------- 174.1/343.1 kB 2.1 MB/s eta 0:00:01\n",
      "   ---------------------------------------- 343.1/343.1 kB 2.7 MB/s eta 0:00:00\n",
      "Downloading pluggy-1.5.0-py3-none-any.whl (20 kB)\n",
      "Downloading iniconfig-2.0.0-py3-none-any.whl (5.9 kB)\n",
      "Installing collected packages: pluggy, iniconfig, pytest\n",
      "Successfully installed iniconfig-2.0.0 pluggy-1.5.0 pytest-8.3.4\n",
      "Note: you may need to restart the kernel to use updated packages.\n"
     ]
    },
    {
     "name": "stderr",
     "output_type": "stream",
     "text": [
      "\n",
      "[notice] A new release of pip is available: 24.1.1 -> 25.0.1\n",
      "[notice] To update, run: python.exe -m pip install --upgrade pip\n"
     ]
    }
   ],
   "source": [
    "pip install pytest"
   ]
  },
  {
   "cell_type": "code",
   "execution_count": 9,
   "id": "4e7aff15-54f1-4490-bf12-6f0a3d1ae274",
   "metadata": {},
   "outputs": [],
   "source": [
    "import pytest\n",
    "\n",
    "# Класс BooksCollector для управления книгами и их жанрами\n",
    "class BooksCollector:\n",
    "    def __init__(self):\n",
    "        self.books_genre = {}  # Словарь для хранения книг и их жанров\n",
    "        self.favorites = []  # Список избранных книг\n",
    "        self.genre = ['Фантастика', 'Фэнтези', 'Научная фантастика', 'Детская литература']  # Доступные жанры\n",
    "        self.genre_age_rating = {'Фантастика': 12, 'Фэнтези': 12, 'Научная фантастика': 16, 'Детская литература': 0}  # Возрастные ограничения\n",
    "    \n",
    "    def add_new_book(self, book_name):\n",
    "        \"\"\"Добавляет новую книгу в словарь без указания жанра.\"\"\"\n",
    "        if book_name and book_name not in self.books_genre:\n",
    "            self.books_genre[book_name] = None\n",
    "    \n",
    "    def set_book_genre(self, book_name, genre):\n",
    "        \"\"\"Устанавливает жанр для книги.\"\"\"\n",
    "        if book_name in self.books_genre and genre in self.genre:\n",
    "            self.books_genre[book_name] = genre\n",
    "    \n",
    "    def get_book_genre(self, book_name):\n",
    "        \"\"\"Возвращает жанр книги по её названию.\"\"\"\n",
    "        return self.books_genre.get(book_name)\n",
    "    \n",
    "    def get_books_with_specific_genre(self, genre):\n",
    "        \"\"\"Возвращает список книг определённого жанра.\"\"\"\n",
    "        return [book for book, book_genre in self.books_genre.items() if book_genre == genre]\n",
    "    \n",
    "    def get_books_genre(self):\n",
    "        \"\"\"Возвращает весь словарь книг и их жанров.\"\"\"\n",
    "        return self.books_genre\n",
    "    \n",
    "    def get_books_for_children(self):\n",
    "        \"\"\"Возвращает список книг, которые подходят детям.\"\"\"\n",
    "        return [book for book, genre in self.books_genre.items() if genre and self.genre_age_rating.get(genre, 18) <= 12]\n",
    "    \n",
    "    def add_book_in_favorites(self, book_name):\n",
    "        \"\"\"Добавляет книгу в список избранного.\"\"\"\n",
    "        if book_name in self.books_genre and book_name not in self.favorites:\n",
    "            self.favorites.append(book_name)\n",
    "    \n",
    "    def delete_book_from_favorites(self, book_name):\n",
    "        \"\"\"Удаляет книгу из списка избранного.\"\"\"\n",
    "        if book_name in self.favorites:\n",
    "            self.favorites.remove(book_name)\n",
    "    \n",
    "    def get_list_of_favorites_books(self):\n",
    "        \"\"\"Возвращает список избранных книг.\"\"\"\n",
    "        return self.favorites"
   ]
  },
  {
   "cell_type": "code",
   "execution_count": 14,
   "id": "bd70611d-2412-49ce-b74f-d0b8a46bc98f",
   "metadata": {},
   "outputs": [],
   "source": [
    "# Тесты\n",
    "@pytest.fixture\n",
    "def books_collector():\n",
    "    \"\"\"Фикстура для создания экземпляра класса BooksCollector.\"\"\"\n",
    "    return BooksCollector()\n",
    "\n",
    "def test_add_new_book(books_collector):\n",
    "    \"\"\"Тест добавления новой книги.\"\"\"\n",
    "    books_collector.add_new_book(\"Властелин колец\")\n",
    "    assert \"Властелин колец\" in books_collector.get_books_genre()\n",
    "\n",
    "def test_set_book_genre(books_collector):\n",
    "    \"\"\"Тест установки жанра для книги.\"\"\"\n",
    "    books_collector.add_new_book(\"Гарри Поттер\")\n",
    "    books_collector.set_book_genre(\"Гарри Поттер\", \"Фэнтези\")\n",
    "    assert books_collector.get_book_genre(\"Гарри Поттер\") == \"Фэнтези\"\n",
    "\n",
    "def test_get_books_with_specific_genre(books_collector):\n",
    "    \"\"\"Тест получения списка книг с определённым жанром.\"\"\"\n",
    "    books_collector.add_new_book(\"Матрица\")\n",
    "    books_collector.set_book_genre(\"Матрица\", \"Научная фантастика\")\n",
    "    assert books_collector.get_books_with_specific_genre(\"Научная фантастика\") == [\"Матрица\"]\n",
    "\n",
    "def test_get_books_for_children(books_collector):\n",
    "    \"\"\"Тест получения списка книг, подходящих детям.\"\"\"\n",
    "    books_collector.add_new_book(\"Сказки\")\n",
    "    books_collector.set_book_genre(\"Сказки\", \"Детская литература\")\n",
    "    assert \"Сказки\" in books_collector.get_books_for_children()\n",
    "\n",
    "def test_favorites(books_collector):\n",
    "    \"\"\"Тест добавления и удаления книги в избранное.\"\"\"\n",
    "    books_collector.add_new_book(\"Властелин колец\")\n",
    "    books_collector.add_book_in_favorites(\"Властелин колец\")\n",
    "    assert \"Властелин колец\" in books_collector.get_list_of_favorites_books()\n",
    "    books_collector.delete_book_from_favorites(\"Властелин колец\")\n",
    "    assert \"Властелин колец\" not in books_collector.get_list_of_favorites_books()\n",
    "\n",
    "# Команда для проверки покрытия тестами:\n",
    "# pytest --cov=books_collector\n",
    "\n",
    "# При запуске pytest тесты выводят результат в консоли: \n",
    "# - '.' означает успешное выполнение теста\n",
    "# - 'F' указывает на сбой теста\n"
   ]
  },
  {
   "cell_type": "code",
   "execution_count": null,
   "id": "d150c4ec-b598-4ec1-959b-ec9324a3bd63",
   "metadata": {},
   "outputs": [],
   "source": [
    "#Задача 2 Работа с “подменными” объектами"
   ]
  },
  {
   "cell_type": "code",
   "execution_count": 20,
   "id": "30595802-6c75-4efe-94e2-6411f0c3a00a",
   "metadata": {},
   "outputs": [],
   "source": [
    "from unittest import TestCase\n",
    "from unittest.mock import MagicMock\n",
    "\n",
    "# Класс кредитной карты с методами для получения информации и списания средств\n",
    "class CreditCard:\n",
    "    def __init__(self, number, holder, expiry_date, cvv, balance=1000.00):\n",
    "        self.number = number\n",
    "        self.holder = holder\n",
    "        self.expiry_date = expiry_date\n",
    "        self.cvv = cvv\n",
    "        self.balance = balance\n",
    "    \n",
    "    def get_card_number(self):\n",
    "        return self.number\n",
    "    \n",
    "    def get_card_holder(self):\n",
    "        return self.holder\n",
    "    \n",
    "    def get_expiry_date(self):\n",
    "        return self.expiry_date\n",
    "    \n",
    "    def get_cvv(self):\n",
    "        return self.cvv\n",
    "    \n",
    "    def charge(self, amount):\n",
    "        if amount > self.balance:\n",
    "            raise ValueError(\"Недостаточно средств на карте\")\n",
    "        self.balance -= amount\n",
    "        return f\"Списано {amount} USD\"\n",
    "\n",
    "class PaymentForm:\n",
    "    def __init__(self, card):\n",
    "        self.card = card\n",
    "    \n",
    "    def pay(self, amount):\n",
    "        return self.card.charge(amount)\n",
    "\n",
    "# Создание реального объекта CreditCard\n",
    "card = CreditCard(\"1234-5678-9876-5432\", \"Иван Иванов\", \"12/25\", \"123\")\n",
    "payment_form = PaymentForm(card)"
   ]
  },
  {
   "cell_type": "code",
   "execution_count": 21,
   "id": "d2692c34-02ee-4005-9777-65ef06d085ff",
   "metadata": {},
   "outputs": [
    {
     "name": "stdout",
     "output_type": "stream",
     "text": [
      "Карта: 1234-5678-9876-5432\n",
      "Владелец: Иван Иванов\n",
      "Срок действия: 12/25\n",
      "CVC: 123\n",
      "Списано 100.0 USD\n",
      "Ошибка при попытке чрезмерного списания: Недостаточно средств на карте\n",
      "Списано 50.0 USD\n"
     ]
    }
   ],
   "source": [
    "# Получение данных карты\n",
    "print(f\"Карта: {card.get_card_number()}\")\n",
    "print(f\"Владелец: {card.get_card_holder()}\")\n",
    "print(f\"Срок действия: {card.get_expiry_date()}\")\n",
    "print(f\"CVC: {card.get_cvv()}\")\n",
    "\n",
    "# Обработка платежа\n",
    "amount = 100.00\n",
    "result = payment_form.pay(amount)\n",
    "print(result)\n",
    "\n",
    "# Попытка чрезмерного списания\n",
    "try:\n",
    "    card.charge(1500.00)  # Это вызовет исключение\n",
    "except Exception as e:\n",
    "    print(f\"Ошибка при попытке чрезмерного списания: {e}\")\n",
    "\n",
    "# Успешный платеж\n",
    "result = payment_form.pay(50.00)\n",
    "print(result)\n"
   ]
  },
  {
   "cell_type": "code",
   "execution_count": null,
   "id": "156847e2-6353-459d-b72d-021582bbda6b",
   "metadata": {},
   "outputs": [],
   "source": []
  }
 ],
 "metadata": {
  "kernelspec": {
   "display_name": "WORK",
   "language": "python",
   "name": "work"
  },
  "language_info": {
   "codemirror_mode": {
    "name": "ipython",
    "version": 3
   },
   "file_extension": ".py",
   "mimetype": "text/x-python",
   "name": "python",
   "nbconvert_exporter": "python",
   "pygments_lexer": "ipython3",
   "version": "3.11.5"
  }
 },
 "nbformat": 4,
 "nbformat_minor": 5
}
