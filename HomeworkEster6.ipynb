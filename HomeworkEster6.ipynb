{
 "cells": [
  {
   "cell_type": "code",
   "execution_count": 1,
   "id": "5da53552-1814-4487-9d2f-fcaeebd303c3",
   "metadata": {},
   "outputs": [
    {
     "name": "stdin",
     "output_type": "stream",
     "text": [
      "Введите названия городов через пробел:  Пермь Казань Москва Владивосток\n"
     ]
    },
    {
     "name": "stdout",
     "output_type": "stream",
     "text": [
      "Города с длиной не менее трех символов: ['Пермь', 'Казань', 'Москва', 'Владивосток']\n"
     ]
    }
   ],
   "source": [
    "#Задача 1 - фильтрация данных\n",
    "from itertools import filterfalse\n",
    "\n",
    "# Функция фильтрации по длине строки\n",
    "def is_long_enough(city):\n",
    "    return len(city) >= 3\n",
    "\n",
    "# Ввод данных\n",
    "cities = input(\"Введите названия городов через пробел: \").split()\n",
    "\n",
    "# Фильтрация данных\n",
    "filtered_cities = list(filter(is_long_enough, cities))\n",
    "\n",
    "# Вывод результата\n",
    "print(\"Города с длиной не менее трех символов:\", filtered_cities)\n"
   ]
  },
  {
   "cell_type": "code",
   "execution_count": 2,
   "id": "2f8f82db-7be8-4bad-b880-b2da35a10896",
   "metadata": {},
   "outputs": [
    {
     "name": "stdin",
     "output_type": "stream",
     "text": [
      "Введите целые числа через пробел:  1 5 9 6 8 14\n"
     ]
    },
    {
     "name": "stdout",
     "output_type": "stream",
     "text": [
      "Отсортированный список чисел: [1, 5, 6, 8, 9, 14]\n"
     ]
    }
   ],
   "source": [
    "#Задача 2 - вложенные функции\n",
    "# Преобразование строки в список целых чисел\n",
    "def get_list():\n",
    "    numbers = input(\"Введите целые числа через пробел: \")\n",
    "    return list(map(int, numbers.split()))\n",
    "\n",
    "# Сортировка результат работы другой функции\n",
    "def sort_func(func):\n",
    "    return sorted(func())\n",
    "\n",
    "# Использование функций\n",
    "sorted_numbers = sort_func(get_list)\n",
    "\n",
    "# Вывод результата\n",
    "print(\"Отсортированный список чисел:\", sorted_numbers)\n"
   ]
  },
  {
   "cell_type": "code",
   "execution_count": 3,
   "id": "f62f8747-f8cc-457a-b05c-9fb681a4507b",
   "metadata": {},
   "outputs": [
    {
     "name": "stdin",
     "output_type": "stream",
     "text": [
      "Введите строку:  abc\n",
      "Введите длину перестановок:  2\n"
     ]
    },
    {
     "name": "stdout",
     "output_type": "stream",
     "text": [
      "Перестановки: ['ab', 'ac', 'ba', 'bc', 'ca', 'cb']\n"
     ]
    }
   ],
   "source": [
    "# Задача 3 - перестановки строк\n",
    "from itertools import permutations\n",
    "# param s: строка, из которой берутся символы\n",
    "# param n: длина перестановок\n",
    "# return: отсортированный список перестановок\n",
    "\n",
    "# Функция для генерации перестановок\n",
    "def generate_permutations(s, n):\n",
    "    return sorted([''.join(p) for p in permutations(s, n)])\n",
    "\n",
    "# Пример использования\n",
    "s = input(\"Введите строку: \")\n",
    "n = int(input(\"Введите длину перестановок: \"))\n",
    "\n",
    "result = generate_permutations(s, n)\n",
    "print(\"Перестановки:\", result)\n"
   ]
  },
  {
   "cell_type": "code",
   "execution_count": 4,
   "id": "6323a25e-34ed-4e5b-bbb6-61d0dc605835",
   "metadata": {},
   "outputs": [
    {
     "name": "stdin",
     "output_type": "stream",
     "text": [
      "Введите строку:  abc\n",
      "Введите максимальную длину комбинаций:  2\n"
     ]
    },
    {
     "name": "stdout",
     "output_type": "stream",
     "text": [
      "Комбинации: ['a', 'ab', 'ac', 'b', 'bc', 'c']\n"
     ]
    }
   ],
   "source": [
    "# Задача 4 - комбинации символов\n",
    "from itertools import combinations\n",
    "# param s: строка, из которой берутся символы\n",
    "# param k: максимальная длина комбинации\n",
    "# return: отсортированный список всех комбинаций\n",
    "# Функция для генерации комбинаций\n",
    "\n",
    "def get_combinations(s, k):\n",
    "    result = []\n",
    "    for i in range(1, k + 1):\n",
    "        result.extend([''.join(c) for c in combinations(s, i)])\n",
    "    return sorted(result)\n",
    "\n",
    "# Пример использования\n",
    "s = input(\"Введите строку: \")\n",
    "k = int(input(\"Введите максимальную длину комбинаций: \"))\n",
    "\n",
    "result = get_combinations(s, k)\n",
    "print(\"Комбинации:\", result)\n"
   ]
  },
  {
   "cell_type": "code",
   "execution_count": 5,
   "id": "38892ed4-4ad6-4597-b439-e34ab8136b36",
   "metadata": {},
   "outputs": [
    {
     "name": "stdout",
     "output_type": "stream",
     "text": [
      "Пользователи по возрасту (по возрастанию): [{'name': 'Bob', 'age': 25}, {'name': 'Alice', 'age': 30}, {'name': 'Charlie', 'age': 35}]\n",
      "Пользователи по возрасту (по убыванию): [{'name': 'Charlie', 'age': 35}, {'name': 'Alice', 'age': 30}, {'name': 'Bob', 'age': 25}]\n"
     ]
    }
   ],
   "source": [
    "# Задача 5 - функция с частичными аргументами\n",
    "from functools import partial\n",
    "# param users: список словарей с данными пользователей\n",
    "# param descending: если True, сортирует по убыванию\n",
    "# return: отсортированный список пользователей\n",
    "\n",
    "# Функция сортировки пользователей по возрасту\n",
    "def _sort_users_by_age(users, descending=False):\n",
    "    return sorted(users, key=lambda user: user['age'], reverse=descending)\n",
    "\n",
    "# Создание частичных функций для сортировки\n",
    "sort_users_ascending = partial(_sort_users_by_age, descending=False)\n",
    "sort_users_descending = partial(_sort_users_by_age, descending=True)\n",
    "\n",
    "# Пример использования\n",
    "users = [\n",
    "    {\"name\": \"Alice\", \"age\": 30},\n",
    "    {\"name\": \"Bob\", \"age\": 25},\n",
    "    {\"name\": \"Charlie\", \"age\": 35}\n",
    "]\n",
    "\n",
    "# Сортировка по возрастанию\n",
    "sorted_users_asc = sort_users_ascending(users)\n",
    "print(\"Пользователи по возрасту (по возрастанию):\", sorted_users_asc)\n",
    "\n",
    "# Сортировка по убыванию\n",
    "sorted_users_desc = sort_users_descending(users)\n",
    "print(\"Пользователи по возрасту (по убыванию):\", sorted_users_desc)\n"
   ]
  },
  {
   "cell_type": "code",
   "execution_count": null,
   "id": "aebd9371-c226-4cf7-b4ec-e40f0a1a9ec5",
   "metadata": {},
   "outputs": [],
   "source": []
  }
 ],
 "metadata": {
  "kernelspec": {
   "display_name": "WORK",
   "language": "python",
   "name": "work"
  },
  "language_info": {
   "codemirror_mode": {
    "name": "ipython",
    "version": 3
   },
   "file_extension": ".py",
   "mimetype": "text/x-python",
   "name": "python",
   "nbconvert_exporter": "python",
   "pygments_lexer": "ipython3",
   "version": "3.11.5"
  }
 },
 "nbformat": 4,
 "nbformat_minor": 5
}
