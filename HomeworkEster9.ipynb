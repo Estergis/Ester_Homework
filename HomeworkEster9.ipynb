{
 "cells": [
  {
   "cell_type": "code",
   "execution_count": null,
   "id": "8fd34bb8-dfad-4367-ba29-1561bf0bfa3e",
   "metadata": {},
   "outputs": [],
   "source": [
    "#Задача 1 Права администратора"
   ]
  },
  {
   "cell_type": "code",
   "execution_count": 1,
   "id": "2dcacab7-beff-40ad-9d03-8ed8f2eec4d3",
   "metadata": {},
   "outputs": [
    {
     "name": "stdout",
     "output_type": "stream",
     "text": [
      "Permission accepted\n",
      "Permission denied\n"
     ]
    }
   ],
   "source": [
    "# Глобальная переменная для хранения текущей роли пользователя\n",
    "user_role = 'user'\n",
    "\n",
    "def role_required(role: str):\n",
    "    def decorator(func):\n",
    "        def wrapper(*args, **kwargs):\n",
    "            if user_role == role:\n",
    "                return func(*args, **kwargs)\n",
    "            else:\n",
    "                return 'Permission denied'\n",
    "        return wrapper\n",
    "    return decorator\n",
    "\n",
    "@role_required('admin')\n",
    "def secret_resource() -> str:\n",
    "    return 'Permission accepted'\n",
    "\n",
    "# Примеры использования\n",
    "user_role = 'admin'\n",
    "print(secret_resource())  # Ожидаемый вывод: 'Permission accepted'\n",
    "\n",
    "user_role = 'manager'\n",
    "print(secret_resource())  # Ожидаемый вывод: 'Permission denied'\n"
   ]
  },
  {
   "cell_type": "code",
   "execution_count": null,
   "id": "ff5adc3c-0181-4ff3-b425-6005bef74462",
   "metadata": {},
   "outputs": [],
   "source": [
    "#Задача 2 Кэширование"
   ]
  },
  {
   "cell_type": "code",
   "execution_count": 2,
   "id": "836fd3cd-e7a6-4ff8-8f83-3039b4c7e7b4",
   "metadata": {},
   "outputs": [
    {
     "name": "stdout",
     "output_type": "stream",
     "text": [
      "Info about: bike_store from postgresql, now cached with expire=5\n",
      "Info about: bike_store cached in postgresql, expire=4\n",
      "Info about: bike_store cached in postgresql, expire=3\n",
      "Info about: bike_store cached in postgresql, expire=2\n",
      "Info about: bike_store cached in postgresql, expire=1\n",
      "Info about: bike_store cached in postgresql, expire=0\n"
     ]
    }
   ],
   "source": [
    "from functools import wraps\n",
    "\n",
    "def cache(db: str, expiration: int):\n",
    "    cache_storage = {}\n",
    "    def decorator(func):\n",
    "        @wraps(func)\n",
    "        def wrapper(thing):\n",
    "            if thing in cache_storage and cache_storage[thing]['expire'] > 0:\n",
    "                cache_storage[thing]['expire'] -= 1\n",
    "                return f\"Info about: {thing} cached in {db}, expire={cache_storage[thing]['expire']}\"\n",
    "            else:\n",
    "                cache_storage[thing] = {'result': func(thing), 'expire': expiration}\n",
    "                return f\"Info about: {thing} from {db}, now cached with expire={expiration}\"\n",
    "        return wrapper\n",
    "    return decorator\n",
    "\n",
    "@cache('postgresql', 5)\n",
    "def get_info(thing: str) -> str:\n",
    "    return f\"Info about: {thing}\"\n",
    "\n",
    "# Примеры использования\n",
    "print(get_info('bike_store'))\n",
    "print(get_info('bike_store'))\n",
    "print(get_info('bike_store'))\n",
    "print(get_info('bike_store'))\n",
    "print(get_info('bike_store'))\n",
    "print(get_info('bike_store'))\n"
   ]
  },
  {
   "cell_type": "code",
   "execution_count": null,
   "id": "1993e59a-76ae-42ca-9972-903d35fa6de4",
   "metadata": {},
   "outputs": [],
   "source": [
    "#Задача 3 Контекстный менеджер safe_write"
   ]
  },
  {
   "cell_type": "code",
   "execution_count": 17,
   "id": "8000bd82-ff5f-4a17-b965-c485e201ac51",
   "metadata": {},
   "outputs": [
    {
     "name": "stdout",
     "output_type": "stream",
     "text": [
      "cp1251\n"
     ]
    }
   ],
   "source": [
    "import locale\n",
    "print(locale.getpreferredencoding())"
   ]
  },
  {
   "cell_type": "code",
   "execution_count": 18,
   "id": "01b7063e-7c66-48af-8a07-0f70bba9ea14",
   "metadata": {},
   "outputs": [
    {
     "name": "stdout",
     "output_type": "stream",
     "text": [
      "Я знаю, что ничего не знаю, но другие не знают и этого.\n",
      "Во время записи в файл было возбуждено исключение ValueError\n",
      "Я знаю, что ничего не знаю, но другие не знают и этого. \n",
      "\n"
     ]
    }
   ],
   "source": [
    "import os\n",
    "import shutil\n",
    "\n",
    "class safe_write:\n",
    "    def __init__(self, filename):\n",
    "        self.filename = filename\n",
    "        self.temp_filename = filename + \".tmp\"\n",
    "\n",
    "    def __enter__(self):\n",
    "        self.backup_exists = os.path.exists(self.filename)\n",
    "        if self.backup_exists:\n",
    "            shutil.copy(self.filename, self.temp_filename)\n",
    "        self.file = open(self.filename, 'w', encoding='utf-8')\n",
    "        return self.file\n",
    "\n",
    "    def __exit__(self, exc_type, exc_value, traceback):\n",
    "        self.file.close()\n",
    "        if exc_type is not None:\n",
    "            print(f\"Во время записи в файл было возбуждено исключение {exc_type.__name__}\")\n",
    "            if self.backup_exists:\n",
    "                shutil.copy(self.temp_filename, self.filename)\n",
    "                os.remove(self.temp_filename)\n",
    "            else:\n",
    "                os.remove(self.filename)\n",
    "            return True\n",
    "        if self.backup_exists:\n",
    "            os.remove(self.temp_filename)\n",
    "\n",
    "# Примеры работы\n",
    "with safe_write('undertale.txt') as file:\n",
    "    file.write('Я знаю, что ничего не знаю, но другие не знают и этого.')\n",
    "\n",
    "with open('undertale.txt', encoding='utf-8') as file:\n",
    "    print(file.read())\n",
    "\n",
    "with safe_write('under_tale.txt') as file:\n",
    "    file.write('Я знаю, что ничего не знаю, но другие не знают и этого. \\n')\n",
    "\n",
    "try:\n",
    "    with safe_write('under_tale.txt') as file:\n",
    "        print('Если ты будешь любознательным, то будешь много знающим.', file=file, flush=True)\n",
    "        raise ValueError\n",
    "except ValueError:\n",
    "    pass\n",
    "\n",
    "with open('under_tale.txt', encoding='utf-8') as file:\n",
    "    print(file.read())\n"
   ]
  },
  {
   "cell_type": "code",
   "execution_count": null,
   "id": "abbe3fed-b205-4197-a138-fa5ccb334848",
   "metadata": {},
   "outputs": [],
   "source": []
  }
 ],
 "metadata": {
  "kernelspec": {
   "display_name": "WORK",
   "language": "python",
   "name": "work"
  },
  "language_info": {
   "codemirror_mode": {
    "name": "ipython",
    "version": 3
   },
   "file_extension": ".py",
   "mimetype": "text/x-python",
   "name": "python",
   "nbconvert_exporter": "python",
   "pygments_lexer": "ipython3",
   "version": "3.11.5"
  }
 },
 "nbformat": 4,
 "nbformat_minor": 5
}
