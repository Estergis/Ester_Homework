{
 "cells": [
  {
   "cell_type": "code",
   "execution_count": 1,
   "id": "f42112bb-2eb6-43fd-94e7-4eba80e59715",
   "metadata": {},
   "outputs": [
    {
     "name": "stdout",
     "output_type": "stream",
     "text": [
      "Содержит хотя бы одно положительное число: True\n",
      "Состоят ли все элементы списка только из чисел: False\n",
      "Отсортированный список чисел: [-1, 0, 3, 5, 7]\n"
     ]
    }
   ],
   "source": [
    "# Задача 1: Работа со списком с использованием свойств итераторов и генераторов\n",
    "\n",
    "def process_list(input_list):\n",
    "    # Проверяем, содержит ли список хотя бы одно положительное число\n",
    "    has_positive = any(x > 0 for x in input_list if isinstance(x, (int, float)))\n",
    "\n",
    "    # Проверяем, состоят ли все элементы списка только из чисел\n",
    "    all_numbers = all(isinstance(x, (int, float)) for x in input_list)\n",
    "\n",
    "    # Сортируем только числовые элементы списка\n",
    "    numeric_elements = [x for x in input_list if isinstance(x, (int, float))]\n",
    "    sorted_list = sorted(numeric_elements)\n",
    "\n",
    "    return has_positive, all_numbers, sorted_list\n",
    "\n",
    "\n",
    "# Пример использования функции\n",
    "test_list = [3, -1, 0, 5, 'hello', 7]  # Тестовый список\n",
    "\n",
    "# Обработка списка\n",
    "has_positive, all_numbers, sorted_list = process_list(test_list)\n",
    "\n",
    "# Вывод результатов\n",
    "print(\"Содержит хотя бы одно положительное число:\", has_positive)\n",
    "print(\"Состоят ли все элементы списка только из чисел:\", all_numbers)\n",
    "print(\"Отсортированный список чисел:\", sorted_list)\n"
   ]
  },
  {
   "cell_type": "code",
   "execution_count": 2,
   "id": "7d5f2023-f431-491f-a8e9-0673e1c47721",
   "metadata": {},
   "outputs": [
    {
     "name": "stdout",
     "output_type": "stream",
     "text": [
      "Первые 10 элементов циклического итератора:\n",
      "1\n",
      "2\n",
      "3\n",
      "1\n",
      "2\n",
      "3\n",
      "1\n",
      "2\n",
      "3\n",
      "1\n"
     ]
    }
   ],
   "source": [
    "# Задача 2: Написать класс CyclicIterator\n",
    "class CyclicIterator:\n",
    "    def __init__(self, iterable):\n",
    "        self.iterable = iterable\n",
    "        self.iterator = iter(iterable)\n",
    "\n",
    "    def __iter__(self):\n",
    "        return self\n",
    "\n",
    "    def __next__(self):\n",
    "        try:\n",
    "            # Пытаемся получить следующий элемент\n",
    "            return next(self.iterator)\n",
    "        except StopIteration:\n",
    "            # Если достигнут конец, начинаем сначала\n",
    "            self.iterator = iter(self.iterable)\n",
    "            return next(self.iterator)\n",
    "\n",
    "\n",
    "# Пример использования класса CyclicIterator\n",
    "cyclic_list = CyclicIterator([1, 2, 3])  # Создаем циклический итератор\n",
    "\n",
    "# Демонстрация работы итератора\n",
    "print(\"Первые 10 элементов циклического итератора:\")\n",
    "for i in range(10):  # Выводим первые 10 элементов\n",
    "    print(next(cyclic_list))\n"
   ]
  },
  {
   "cell_type": "code",
   "execution_count": 3,
   "id": "6b8bd151-bfd8-478e-a86d-ad171c1a00a4",
   "metadata": {},
   "outputs": [
    {
     "name": "stdout",
     "output_type": "stream",
     "text": [
      "Первые 5 сгенерированных паролей:\n",
      "d*#hJze7Qbxk\n",
      "Ki9!tU5zft4p\n",
      "uI8PCZCerRl@\n",
      "dkpNq?5o1*ed\n",
      "d@gqVPvNNYVh\n"
     ]
    }
   ],
   "source": [
    "# Задача 3: Функция-генератор для формирования случайных паролей\n",
    "# param chars: Строка символов, из которых составляется пароль\n",
    "# param length: Длина каждого генерируемого пароля\n",
    "# yield: Случайно сгенерированный пароль\n",
    "import random\n",
    "from string import ascii_lowercase, ascii_uppercase\n",
    "\n",
    "# Определяем символы для паролей\n",
    "chars = ascii_lowercase + ascii_uppercase + \"0123456789!?@#$*\"\n",
    "\n",
    "def password_generator(chars, length=12):\n",
    "    while True:\n",
    "        yield ''.join(random.choice(chars) for _ in range(length))\n",
    "\n",
    "\n",
    "# Пример использования генератора\n",
    "generator = password_generator(chars)  # Создаем генератор паролей\n",
    "\n",
    "# Вывод первых 5 сгенерированных паролей\n",
    "print(\"Первые 5 сгенерированных паролей:\")\n",
    "for _ in range(5):\n",
    "    print(next(generator))\n"
   ]
  },
  {
   "cell_type": "code",
   "execution_count": 5,
   "id": "8c9ba50e-4809-4c1b-bcc3-56f0823a204b",
   "metadata": {},
   "outputs": [
    {
     "name": "stdout",
     "output_type": "stream",
     "text": [
      "Расписание для фильма 'Домашняя работа':\n",
      "2024-11-01 00:00:00\n",
      "2024-11-02 00:00:00\n",
      "2024-11-03 00:00:00\n",
      "2024-11-04 00:00:00\n",
      "2024-11-05 00:00:00\n",
      "2024-11-06 00:00:00\n",
      "2024-11-07 00:00:00\n",
      "2024-12-15 00:00:00\n",
      "2024-12-16 00:00:00\n",
      "2024-12-17 00:00:00\n",
      "2024-12-18 00:00:00\n",
      "2024-12-19 00:00:00\n",
      "2024-12-20 00:00:00\n",
      "2024-12-21 00:00:00\n",
      "2024-12-22 00:00:00\n",
      "2024-12-23 00:00:00\n",
      "2024-12-24 00:00:00\n",
      "2024-12-25 00:00:00\n",
      "2024-12-26 00:00:00\n",
      "2024-12-27 00:00:00\n",
      "2024-12-28 00:00:00\n",
      "2024-12-29 00:00:00\n",
      "2024-12-30 00:00:00\n",
      "2024-12-31 00:00:00\n"
     ]
    }
   ],
   "source": [
    "# Задача 4: Создание класса movie\n",
    "# param title: Название фильма\n",
    "# param schedule_periods: Список кортежей с датами начала и окончания проката\n",
    "from datetime import datetime, timedelta\n",
    "\n",
    "class Movie:\n",
    "    def __init__(self, title, schedule_periods):\n",
    "        self.title = title\n",
    "        self.schedule_periods = schedule_periods\n",
    "\n",
    "    def schedule(self):\n",
    "        for start_date, end_date in self.schedule_periods:\n",
    "            current_date = start_date\n",
    "            while current_date <= end_date:\n",
    "                yield current_date\n",
    "                current_date += timedelta(days=1)\n",
    "\n",
    "\n",
    "# Пример использования класса Movie\n",
    "schedule_periods = [\n",
    "    (datetime(2024, 11, 1), datetime(2024, 11, 7)),\n",
    "    (datetime(2024, 12, 15), datetime(2024, 12, 31))\n",
    "]\n",
    "movie = Movie(\"Домашняя работа\", schedule_periods)\n",
    "\n",
    "# Демонстрация работы метода schedule\n",
    "print(f\"Расписание для фильма '{movie.title}':\")\n",
    "for show_date in movie.schedule():\n",
    "    print(show_date)\n"
   ]
  },
  {
   "cell_type": "code",
   "execution_count": null,
   "id": "0f1d5180-42b0-47eb-852f-9067635f479b",
   "metadata": {},
   "outputs": [],
   "source": []
  }
 ],
 "metadata": {
  "kernelspec": {
   "display_name": "WORK",
   "language": "python",
   "name": "work"
  },
  "language_info": {
   "codemirror_mode": {
    "name": "ipython",
    "version": 3
   },
   "file_extension": ".py",
   "mimetype": "text/x-python",
   "name": "python",
   "nbconvert_exporter": "python",
   "pygments_lexer": "ipython3",
   "version": "3.11.5"
  }
 },
 "nbformat": 4,
 "nbformat_minor": 5
}
