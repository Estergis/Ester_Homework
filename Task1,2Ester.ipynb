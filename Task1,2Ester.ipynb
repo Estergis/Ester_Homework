{
 "cells": [
  {
   "cell_type": "code",
   "execution_count": 5,
   "id": "f6f77484-1d45-41d6-b359-e58e853bad6b",
   "metadata": {},
   "outputs": [
    {
     "name": "stdin",
     "output_type": "stream",
     "text": [
      "Введите первое число:  23\n",
      "Введите второе число:  23\n",
      "Введите третье число:  21\n"
     ]
    }
   ],
   "source": [
    "#Задача1\n",
    "# Вводим три числа\n",
    "a = int(input(\"Введите первое число: \"))\n",
    "b = int(input(\"Введите второе число: \"))\n",
    "c = int(input(\"Введите третье число: \"))\n"
   ]
  },
  {
   "cell_type": "code",
   "execution_count": 6,
   "id": "fa7c7d87-f1b7-4027-b398-5b943129656d",
   "metadata": {},
   "outputs": [],
   "source": [
    "# Определяем максимальное, минимальное и среднее числа\n",
    "max_num = max(a, b, c)\n",
    "min_num = min(a, b, c)\n",
    "mid_num = (a + b + c) - max_num - min_num"
   ]
  },
  {
   "cell_type": "code",
   "execution_count": 7,
   "id": "9d966f3e-e119-4ac3-b6fe-685765cb8c9f",
   "metadata": {},
   "outputs": [
    {
     "name": "stdout",
     "output_type": "stream",
     "text": [
      "23\n",
      "21\n",
      "23\n"
     ]
    }
   ],
   "source": [
    "# Выводим результат\n",
    "print(max_num)\n",
    "print(min_num)\n",
    "print(mid_num)"
   ]
  },
  {
   "cell_type": "code",
   "execution_count": 13,
   "id": "c984f35b-d6be-4123-b92b-dbf03f35e942",
   "metadata": {},
   "outputs": [
    {
     "name": "stdin",
     "output_type": "stream",
     "text": [
      "Введите номер билета (6 цифр):  123456\n"
     ]
    }
   ],
   "source": [
    " #Задача 2\n",
    "# Вводим шестизначное число в виде строки\n",
    "ticket = input(\"Введите номер билета (6 цифр): \")"
   ]
  },
  {
   "cell_type": "code",
   "execution_count": 14,
   "id": "396a92d4-0fe5-44cb-840c-eb02b74fbda1",
   "metadata": {},
   "outputs": [
    {
     "name": "stdout",
     "output_type": "stream",
     "text": [
      "Обычный\n"
     ]
    }
   ],
   "source": [
    "# Проверяем, что длина строки равна 6 и состоит только из цифр\n",
    "if len(ticket) == 6 and ticket.isdigit():\n",
    "    # Преобразуем первые и последние три цифры в целые числа и вычисляем их суммы\n",
    "    sum_first_half = int(ticket[0]) + int(ticket[1]) + int(ticket[2])\n",
    "    sum_second_half = int(ticket[3]) + int(ticket[4]) + int(ticket[5])\n",
    "    \n",
    "    # Проверяем равенство сумм и выводим результат\n",
    "    if sum_first_half == sum_second_half:\n",
    "        print(\"Счастливый\")\n",
    "    else:\n",
    "        print(\"Обычный\")"
   ]
  },
  {
   "cell_type": "code",
   "execution_count": null,
   "id": "74ca4298-ff1b-45dd-b0b0-081c63d05468",
   "metadata": {},
   "outputs": [],
   "source": []
  }
 ],
 "metadata": {
  "kernelspec": {
   "display_name": "Python 3 (ipykernel)",
   "language": "python",
   "name": "python3"
  },
  "language_info": {
   "codemirror_mode": {
    "name": "ipython",
    "version": 3
   },
   "file_extension": ".py",
   "mimetype": "text/x-python",
   "name": "python",
   "nbconvert_exporter": "python",
   "pygments_lexer": "ipython3",
   "version": "3.11.5"
  }
 },
 "nbformat": 4,
 "nbformat_minor": 5
}
