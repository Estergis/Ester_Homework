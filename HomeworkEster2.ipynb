{
 "cells": [
  {
   "cell_type": "code",
   "execution_count": 16,
   "id": "5cdae81e-b1ba-400f-99be-155889d0e385",
   "metadata": {},
   "outputs": [],
   "source": [
    "#Задание 1\n",
    "#Задача 1\n",
    "import numpy as np\n",
    "import os"
   ]
  },
  {
   "cell_type": "code",
   "execution_count": 17,
   "id": "4beec9a7-056d-4a01-a294-df9ac0c10aee",
   "metadata": {},
   "outputs": [],
   "source": [
    "# Создаем матрицу 8x8, заполненную нулями\n",
    "matrix = np.zeros((8, 8), dtype=int)"
   ]
  },
  {
   "cell_type": "code",
   "execution_count": 18,
   "id": "859dd618-9841-4fb1-b802-eddad1b031e5",
   "metadata": {},
   "outputs": [],
   "source": [
    "# Заполняем матрицу значениями в шахматном порядке\n",
    "matrix[1::2, ::2] = 1  # Четные столбцы для нечетных строк\n",
    "matrix[::2, 1::2] = 1  # Нечетные столбцы для четных строк"
   ]
  },
  {
   "cell_type": "code",
   "execution_count": 19,
   "id": "7b0ecfa2-aaa3-4c1e-9035-5ed270565810",
   "metadata": {},
   "outputs": [
    {
     "name": "stdout",
     "output_type": "stream",
     "text": [
      "Матрица в шахматном порядке:\n",
      "[[0 1 0 1 0 1 0 1]\n",
      " [1 0 1 0 1 0 1 0]\n",
      " [0 1 0 1 0 1 0 1]\n",
      " [1 0 1 0 1 0 1 0]\n",
      " [0 1 0 1 0 1 0 1]\n",
      " [1 0 1 0 1 0 1 0]\n",
      " [0 1 0 1 0 1 0 1]\n",
      " [1 0 1 0 1 0 1 0]]\n"
     ]
    }
   ],
   "source": [
    "# Выводим матрицу на экран\n",
    "print(\"Матрица в шахматном порядке:\")\n",
    "print(matrix)"
   ]
  },
  {
   "cell_type": "code",
   "execution_count": 20,
   "id": "6c2cfcea-cc5c-4ebc-a5f3-bf319884c126",
   "metadata": {},
   "outputs": [
    {
     "name": "stdout",
     "output_type": "stream",
     "text": [
      "Файл сохранен по пути: D:\\Yolo8\\CVAT2YOLO\\chess_matrix.txt\n"
     ]
    }
   ],
   "source": [
    "# Сохраняем матрицу в файл\n",
    "file_path = os.path.join(os.getcwd(), \"chess_matrix.txt\")\n",
    "np.savetxt(file_path, matrix, fmt=\"%d\")\n",
    "print(f\"Файл сохранен по пути: {file_path}\")"
   ]
  },
  {
   "cell_type": "code",
   "execution_count": 21,
   "id": "a7267bc2-b1d8-493a-a54c-b3f9ef6808b5",
   "metadata": {},
   "outputs": [],
   "source": [
    "# Задача 2\n",
    "# Генерируем вектор из 2000 случайных величин, распределенных по нормальному закону\n",
    "mean = 0  \n",
    "variance = 5  \n",
    "std_dev = np.sqrt(variance)  \n",
    "vector = np.random.normal(mean, std_dev, 2000)"
   ]
  },
  {
   "cell_type": "code",
   "execution_count": 22,
   "id": "23df4dff-c0a6-4bb3-a53d-270b6457a904",
   "metadata": {},
   "outputs": [],
   "source": [
    "# Вычисляем экспериментальное значение математического ожидания (среднее значение)\n",
    "experimental_mean = np.mean(vector)"
   ]
  },
  {
   "cell_type": "code",
   "execution_count": 23,
   "id": "13da8f2a-f579-45b9-b878-7e2a97972926",
   "metadata": {},
   "outputs": [],
   "source": [
    "# Вычисляем экспериментальную дисперсию\n",
    "experimental_variance = np.var(vector)"
   ]
  },
  {
   "cell_type": "code",
   "execution_count": 24,
   "id": "7bec1034-d91e-4b95-9489-9ca9179f213e",
   "metadata": {},
   "outputs": [
    {
     "name": "stdout",
     "output_type": "stream",
     "text": [
      "Экспериментальное значение математического ожидания: 0.005192183710654639\n",
      "Экспериментальная дисперсия: 5.338340285767178\n"
     ]
    }
   ],
   "source": [
    "# Выводим результаты\n",
    "print(\"Экспериментальное значение математического ожидания:\", experimental_mean)\n",
    "print(\"Экспериментальная дисперсия:\", experimental_variance)"
   ]
  },
  {
   "cell_type": "code",
   "execution_count": 25,
   "id": "f4d63eb3-8914-4f56-9f73-d2baf545b722",
   "metadata": {},
   "outputs": [],
   "source": [
    "#Задание 2\n",
    "#Задача 1\n",
    "import pandas as pd"
   ]
  },
  {
   "cell_type": "code",
   "execution_count": 26,
   "id": "24f3a8d7-b16c-4794-a567-9b5ce272a09a",
   "metadata": {},
   "outputs": [],
   "source": [
    "# Шаг 1. Загрузка данных из CSV-файла\n",
    "url = \"https://www.geos.ed.ac.uk/~weather/jcmb_ws/JCMB_2006_Aug.csv\"\n",
    "df = pd.read_csv(url)"
   ]
  },
  {
   "cell_type": "code",
   "execution_count": 27,
   "id": "4b626a08-c9e0-469c-8d33-9ddf337651c8",
   "metadata": {},
   "outputs": [
    {
     "name": "stdout",
     "output_type": "stream",
     "text": [
      "Файл сохранен по пути: JCMB_2006_Aug_first_1000.csv\n"
     ]
    }
   ],
   "source": [
    "# Шаг 3. Сохранение первых 1000 строк в новый CSV-файл\n",
    "df_first_1000 = df.head(1000)\n",
    "output_file = \"JCMB_2006_Aug_first_1000.csv\"\n",
    "df_first_1000.to_csv(output_file, index=False)\n",
    "\n",
    "print(f\"Файл сохранен по пути: {output_file}\")"
   ]
  },
  {
   "cell_type": "code",
   "execution_count": 28,
   "id": "3382cd76-f986-474d-a2be-249f57e1907d",
   "metadata": {},
   "outputs": [
    {
     "name": "stdout",
     "output_type": "stream",
     "text": [
      "Первые 20 записей:\n",
      "           date-time  atmospheric pressure (mBar)  rainfall (mm)  \\\n",
      "0   2006/08/01 00:01                         1000            0.0   \n",
      "1   2006/08/01 00:02                         1000            0.0   \n",
      "2   2006/08/01 00:03                         1000            0.0   \n",
      "3   2006/08/01 00:04                         1000            0.0   \n",
      "4   2006/08/01 00:05                         1000            0.0   \n",
      "5   2006/08/01 00:06                         1000            0.0   \n",
      "6   2006/08/01 00:07                         1000            0.0   \n",
      "7   2006/08/01 00:08                          999            0.0   \n",
      "8   2006/08/01 00:09                          999            0.0   \n",
      "9   2006/08/01 00:10                         1000            0.0   \n",
      "10  2006/08/01 00:11                          999            0.0   \n",
      "11  2006/08/01 00:12                          999            0.0   \n",
      "12  2006/08/01 00:13                          999            0.0   \n",
      "13  2006/08/01 00:14                          999            0.0   \n",
      "14  2006/08/01 00:15                          999            0.0   \n",
      "15  2006/08/01 00:16                          999            0.0   \n",
      "16  2006/08/01 00:17                          999            0.0   \n",
      "17  2006/08/01 00:18                          999            0.0   \n",
      "18  2006/08/01 00:19                          999            0.0   \n",
      "19  2006/08/01 00:20                          999            0.0   \n",
      "\n",
      "    wind speed (m/s)  wind direction (degrees)  surface temperature (C)  \\\n",
      "0              3.000                     219.8                    12.56   \n",
      "1              2.542                     226.3                    12.58   \n",
      "2              3.063                     231.2                    12.53   \n",
      "3              2.729                     221.0                    12.47   \n",
      "4              2.667                     206.5                    12.46   \n",
      "5              2.063                     213.9                    12.49   \n",
      "6              2.271                     211.2                    12.40   \n",
      "7              2.500                     209.9                    12.38   \n",
      "8              2.229                     201.5                    12.40   \n",
      "9              2.875                     235.3                    12.39   \n",
      "10             2.688                     216.7                    12.35   \n",
      "11             2.896                     234.7                    12.29   \n",
      "12             2.854                     231.9                    12.31   \n",
      "13             2.542                     232.1                    12.31   \n",
      "14             2.458                     235.8                    12.29   \n",
      "15             2.833                     232.7                    12.25   \n",
      "16             2.604                     224.3                    12.22   \n",
      "17             2.333                     223.0                    12.22   \n",
      "18             2.438                     223.4                    12.20   \n",
      "19             2.542                     215.0                    12.17   \n",
      "\n",
      "    relative humidity (%)  solar flux (Kw/m2)  battery (V)  \n",
      "0                    83.2                 0.0        -9999  \n",
      "1                    83.3                 0.0        -9999  \n",
      "2                    83.4                 0.0        -9999  \n",
      "3                    83.4                 0.0        -9999  \n",
      "4                    83.4                 0.0        -9999  \n",
      "5                    83.5                 0.0        -9999  \n",
      "6                    83.7                 0.0        -9999  \n",
      "7                    83.7                 0.0        -9999  \n",
      "8                    83.8                 0.0        -9999  \n",
      "9                    83.9                 0.0        -9999  \n",
      "10                   84.0                 0.0        -9999  \n",
      "11                   84.1                 0.0        -9999  \n",
      "12                   84.0                 0.0        -9999  \n",
      "13                   84.2                 0.0        -9999  \n",
      "14                   84.3                 0.0        -9999  \n",
      "15                   84.3                 0.0        -9999  \n",
      "16                   84.3                 0.0        -9999  \n",
      "17                   84.3                 0.0        -9999  \n",
      "18                   84.5                 0.0        -9999  \n",
      "19                   84.5                 0.0        -9999  \n",
      "\n",
      "Последние 20 записей:\n",
      "            date-time  atmospheric pressure (mBar)  rainfall (mm)  \\\n",
      "980  2006/08/01 16:21                         1000            0.0   \n",
      "981  2006/08/01 16:22                         1000            0.0   \n",
      "982  2006/08/01 16:23                         1000            0.0   \n",
      "983  2006/08/01 16:24                         1000            0.0   \n",
      "984  2006/08/01 16:25                         1000            0.0   \n",
      "985  2006/08/01 16:26                         1000            0.0   \n",
      "986  2006/08/01 16:27                         1000            0.0   \n",
      "987  2006/08/01 16:28                         1000            0.0   \n",
      "988  2006/08/01 16:29                         1000            0.0   \n",
      "989  2006/08/01 16:30                         1000            0.0   \n",
      "990  2006/08/01 16:31                         1000            0.0   \n",
      "991  2006/08/01 16:32                         1000            0.0   \n",
      "992  2006/08/01 16:33                         1001            0.0   \n",
      "993  2006/08/01 16:34                         1000            0.0   \n",
      "994  2006/08/01 16:35                         1001            0.0   \n",
      "995  2006/08/01 16:36                         1000            0.0   \n",
      "996  2006/08/01 16:37                         1001            0.0   \n",
      "997  2006/08/01 16:38                         1000            0.0   \n",
      "998  2006/08/01 16:39                         1000            0.0   \n",
      "999  2006/08/01 16:40                         1000            0.0   \n",
      "\n",
      "     wind speed (m/s)  wind direction (degrees)  surface temperature (C)  \\\n",
      "980             3.104                     303.6                    17.10   \n",
      "981             3.313                     310.3                    17.15   \n",
      "982             3.271                     310.9                    17.12   \n",
      "983             2.583                     302.6                    17.11   \n",
      "984             1.583                     299.4                    17.21   \n",
      "985             1.583                     250.1                    17.26   \n",
      "986             2.583                     251.0                    17.34   \n",
      "987             3.854                     252.3                    17.17   \n",
      "988             4.333                     252.5                    17.02   \n",
      "989             3.208                     248.1                    16.89   \n",
      "990             3.000                     250.9                    16.91   \n",
      "991             3.958                     260.4                    16.94   \n",
      "992             3.313                     267.1                    16.99   \n",
      "993             3.063                     291.0                    17.10   \n",
      "994             3.500                     257.3                    17.19   \n",
      "995             3.896                     275.5                    17.25   \n",
      "996             3.542                     269.5                    17.32   \n",
      "997             3.333                     276.8                    17.41   \n",
      "998             2.000                     297.5                    17.57   \n",
      "999             3.417                     290.0                    17.70   \n",
      "\n",
      "     relative humidity (%)  solar flux (Kw/m2)  battery (V)  \n",
      "980                  61.54            0.294480        -9999  \n",
      "981                  61.58            0.230849        -9999  \n",
      "982                  60.36            0.221970        -9999  \n",
      "983                  61.22            0.187935        -9999  \n",
      "984                  61.25            0.177576        -9999  \n",
      "985                  61.54            0.131702        -9999  \n",
      "986                  61.41            0.112465        -9999  \n",
      "987                  62.56            0.119864        -9999  \n",
      "988                  63.41            0.143541        -9999  \n",
      "989                  63.80            0.187935        -9999  \n",
      "990                  64.04            0.224930        -9999  \n",
      "991                  63.97            0.316677        -9999  \n",
      "992                  64.00            0.443940        -9999  \n",
      "993                  63.15            0.584521        -9999  \n",
      "994                  62.07            0.541607        -9999  \n",
      "995                  62.13            0.553445        -9999  \n",
      "996                  60.95            0.535688        -9999  \n",
      "997                  60.30            0.485374        -9999  \n",
      "998                  60.17            0.467617        -9999  \n",
      "999                  59.64            0.435061        -9999  \n",
      "\n",
      "Срез записей с 100 по 120:\n",
      "            date-time  atmospheric pressure (mBar)  rainfall (mm)  \\\n",
      "100  2006/08/01 01:41                          999            0.0   \n",
      "101  2006/08/01 01:42                          999            0.0   \n",
      "102  2006/08/01 01:43                          999            0.0   \n",
      "103  2006/08/01 01:44                          999            0.0   \n",
      "104  2006/08/01 01:45                          999            0.0   \n",
      "105  2006/08/01 01:46                          999            0.0   \n",
      "106  2006/08/01 01:47                          999            0.0   \n",
      "107  2006/08/01 01:48                          999            0.0   \n",
      "108  2006/08/01 01:49                          999            0.0   \n",
      "109  2006/08/01 01:50                          999            0.0   \n",
      "110  2006/08/01 01:51                          999            0.0   \n",
      "111  2006/08/01 01:52                          999            0.0   \n",
      "112  2006/08/01 01:53                          999            0.0   \n",
      "113  2006/08/01 01:54                          999            0.0   \n",
      "114  2006/08/01 01:55                          999            0.0   \n",
      "115  2006/08/01 01:56                          999            0.0   \n",
      "116  2006/08/01 01:57                          999            0.0   \n",
      "117  2006/08/01 01:58                          999            0.0   \n",
      "118  2006/08/01 01:59                          999            0.0   \n",
      "119  2006/08/01 02:00                          999            0.0   \n",
      "\n",
      "     wind speed (m/s)  wind direction (degrees)  surface temperature (C)  \\\n",
      "100             4.646                     221.4                    11.94   \n",
      "101             4.208                     239.2                    11.96   \n",
      "102             4.500                     247.1                    11.98   \n",
      "103             4.083                     224.6                    11.97   \n",
      "104             4.271                     238.8                    11.97   \n",
      "105             3.938                     233.1                    11.99   \n",
      "106             4.313                     220.9                    11.96   \n",
      "107             4.104                     229.0                    11.96   \n",
      "108             5.000                     238.1                    11.95   \n",
      "109             3.458                     239.2                    11.95   \n",
      "110             3.813                     232.7                    11.94   \n",
      "111             4.229                     236.5                    11.97   \n",
      "112             4.729                     222.3                    11.97   \n",
      "113             4.021                     230.2                    11.99   \n",
      "114             3.354                     244.3                    11.96   \n",
      "115             3.521                     222.3                    11.95   \n",
      "116             3.792                     237.8                    11.95   \n",
      "117             4.125                     236.1                    11.96   \n",
      "118             4.625                     247.1                    11.99   \n",
      "119             3.813                     228.5                    11.99   \n",
      "\n",
      "     relative humidity (%)  solar flux (Kw/m2)  battery (V)  \n",
      "100                   84.3                 0.0        -9999  \n",
      "101                   84.3                 0.0        -9999  \n",
      "102                   84.2                 0.0        -9999  \n",
      "103                   84.2                 0.0        -9999  \n",
      "104                   84.3                 0.0        -9999  \n",
      "105                   84.0                 0.0        -9999  \n",
      "106                   84.1                 0.0        -9999  \n",
      "107                   84.1                 0.0        -9999  \n",
      "108                   84.2                 0.0        -9999  \n",
      "109                   84.2                 0.0        -9999  \n",
      "110                   84.3                 0.0        -9999  \n",
      "111                   84.2                 0.0        -9999  \n",
      "112                   84.2                 0.0        -9999  \n",
      "113                   84.1                 0.0        -9999  \n",
      "114                   84.1                 0.0        -9999  \n",
      "115                   84.3                 0.0        -9999  \n",
      "116                   84.3                 0.0        -9999  \n",
      "117                   84.2                 0.0        -9999  \n",
      "118                   84.0                 0.0        -9999  \n",
      "119                   84.1                 0.0        -9999  \n"
     ]
    }
   ],
   "source": [
    "# Шаг 4. Загрузка сохраненного CSV-файла и отображение срезов\n",
    "df_loaded = pd.read_csv(output_file)\n",
    "print(\"Первые 20 записей:\")\n",
    "print(df_loaded.head(20))\n",
    "\n",
    "print(\"\\nПоследние 20 записей:\")\n",
    "print(df_loaded.tail(20))\n",
    "\n",
    "print(\"\\nСрез записей с 100 по 120:\")\n",
    "print(df_loaded.iloc[100:120])"
   ]
  },
  {
   "cell_type": "code",
   "execution_count": 33,
   "id": "597154e1-f258-4560-944c-5199b21d9ae2",
   "metadata": {},
   "outputs": [
    {
     "name": "stdout",
     "output_type": "stream",
     "text": [
      "\n",
      "Количество уникальных значений относительной влажности: 389\n"
     ]
    }
   ],
   "source": [
    "# Шаг 5. Поиск уникальных значений в столбце «relative humidity (%)»\n",
    "unique_relative_humidity = df_loaded[\"relative humidity (%)\"].nunique()\n",
    "print(\"\\nКоличество уникальных значений относительной влажности:\", unique_relative_humidity)"
   ]
  },
  {
   "cell_type": "code",
   "execution_count": 36,
   "id": "55eb055c-6fa0-44fb-b5a5-9abdb024ddc3",
   "metadata": {},
   "outputs": [
    {
     "data": {
      "text/plain": [
       "<Axes: title={'center': 'Топ-10 значений скорости ветра (m/s)'}>"
      ]
     },
     "execution_count": 36,
     "metadata": {},
     "output_type": "execute_result"
    },
    {
     "data": {
      "image/png": "[encoded data removed]",
      "text/plain": [
       "<Figure size 640x480 with 1 Axes>"
      ]
     },
     "metadata": {},
     "output_type": "display_data"
    }
   ],
   "source": [
    "# Шаг 6. Поиск 10 наибольших значений «wind speed (m/s)» и построение графика\n",
    "top_10_windspeeds = df_loaded[\"wind speed (m/s)\"].nlargest(10)\n",
    "top_10_windspeeds.plot(kind='bar', title=\"Топ-10 значений скорости ветра (m/s)\")"
   ]
  },
  {
   "cell_type": "code",
   "execution_count": null,
   "id": "c8a2deff-ada0-4e4f-83e7-d8c8b4498927",
   "metadata": {},
   "outputs": [],
   "source": []
  }
 ],
 "metadata": {
  "kernelspec": {
   "display_name": "WORK",
   "language": "python",
   "name": "work"
  },
  "language_info": {
   "codemirror_mode": {
    "name": "ipython",
    "version": 3
   },
   "file_extension": ".py",
   "mimetype": "text/x-python",
   "name": "python",
   "nbconvert_exporter": "python",
   "pygments_lexer": "ipython3",
   "version": "3.11.5"
  }
 },
 "nbformat": 4,
 "nbformat_minor": 5
}
